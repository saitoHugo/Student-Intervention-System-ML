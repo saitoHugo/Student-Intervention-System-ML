{
 "cells": [
  {
   "cell_type": "markdown",
   "metadata": {},
   "source": [
    "# Machine Learning Engineer Nanodegree\n",
    "## Supervised Learning\n",
    "## Project: Building a Student Intervention System"
   ]
  },
  {
   "cell_type": "markdown",
   "metadata": {},
   "source": [
    "Welcome to the second project of the Machine Learning Engineer Nanodegree! In this notebook, some template code has already been provided for you, and it will be your job to implement the additional functionality necessary to successfully complete this project. Sections that begin with **'Implementation'** in the header indicate that the following block of code will require additional functionality which you must provide. Instructions will be provided for each section and the specifics of the implementation are marked in the code block with a `'TODO'` statement. Please be sure to read the instructions carefully!\n",
    "\n",
    "In addition to implementing code, there will be questions that you must answer which relate to the project and your implementation. Each section where you will answer a question is preceded by a **'Question X'** header. Carefully read each question and provide thorough answers in the following text boxes that begin with **'Answer:'**. Your project submission will be evaluated based on your answers to each of the questions and the implementation you provide.  \n",
    "\n",
    ">**Note:** Code and Markdown cells can be executed using the **Shift + Enter** keyboard shortcut. In addition, Markdown cells can be edited by typically double-clicking the cell to enter edit mode."
   ]
  },
  {
   "cell_type": "markdown",
   "metadata": {},
   "source": [
    "### Question 1 - Classification vs. Regression\n",
    "*Your goal for this project is to identify students who might need early intervention before they fail to graduate. Which type of supervised learning problem is this, classification or regression? Why?*"
   ]
  },
  {
   "cell_type": "markdown",
   "metadata": {},
   "source": [
    "**Answer: **Identify which student need early intervention is a classification problem, because the process starts perform the analyses based on inputs with the objetive of predict an discrete label. In this case, binary label as True or False, 1 or 0, Yes or No, for determine a necessity of early intenvention. The regressions problems, have the objetive of, based on inputs, determine an continuous label as output. The algorithm for Regressions, need to learn the pattern and should find an proximate function that report this pattern. That is not the case in this Project."
   ]
  },
  {
   "cell_type": "markdown",
   "metadata": {},
   "source": [
    "## Exploring the Data\n",
    "Run the code cell below to load necessary Python libraries and load the student data. Note that the last column from this dataset, `'passed'`, will be our target label (whether the student graduated or didn't graduate). All other columns are features about each student."
   ]
  },
  {
   "cell_type": "code",
   "execution_count": 1,
   "metadata": {},
   "outputs": [
    {
     "name": "stdout",
     "output_type": "stream",
     "text": [
      "Student data read successfully!\n"
     ]
    }
   ],
   "source": [
    "# Import libraries\n",
    "import numpy as np\n",
    "import pandas as pd\n",
    "from time import time\n",
    "from sklearn.metrics import f1_score\n",
    "\n",
    "# Read student data\n",
    "student_data = pd.read_csv(\"student-data.csv\")\n",
    "print \"Student data read successfully!\""
   ]
  },
  {
   "cell_type": "markdown",
   "metadata": {},
   "source": [
    "### Implementation: Data Exploration\n",
    "Let's begin by investigating the dataset to determine how many students we have information on, and learn about the graduation rate among these students. In the code cell below, you will need to compute the following:\n",
    "- The total number of students, `n_students`.\n",
    "- The total number of features for each student, `n_features`.\n",
    "- The number of those students who passed, `n_passed`.\n",
    "- The number of those students who failed, `n_failed`.\n",
    "- The graduation rate of the class, `grad_rate`, in percent (%).\n"
   ]
  },
  {
   "cell_type": "code",
   "execution_count": 2,
   "metadata": {},
   "outputs": [
    {
     "name": "stdout",
     "output_type": "stream",
     "text": [
      "<class 'pandas.core.frame.DataFrame'>\n",
      "  school sex  age address famsize Pstatus  Medu  Fedu     Mjob      Fjob  \\\n",
      "0     GP   F   18       U     GT3       A     4     4  at_home   teacher   \n",
      "1     GP   F   17       U     GT3       T     1     1  at_home     other   \n",
      "2     GP   F   15       U     LE3       T     1     1  at_home     other   \n",
      "3     GP   F   15       U     GT3       T     4     2   health  services   \n",
      "4     GP   F   16       U     GT3       T     3     3    other     other   \n",
      "\n",
      "   ...   internet romantic  famrel  freetime  goout Dalc Walc health absences  \\\n",
      "0  ...         no       no       4         3      4    1    1      3        6   \n",
      "1  ...        yes       no       5         3      3    1    1      3        4   \n",
      "2  ...        yes       no       4         3      2    2    3      3       10   \n",
      "3  ...        yes      yes       3         2      2    1    1      5        2   \n",
      "4  ...         no       no       4         3      2    1    2      5        4   \n",
      "\n",
      "  passed  \n",
      "0     no  \n",
      "1     no  \n",
      "2    yes  \n",
      "3    yes  \n",
      "4    yes  \n",
      "\n",
      "[5 rows x 31 columns]\n",
      "    school sex  age address famsize Pstatus  Medu  Fedu      Mjob      Fjob  \\\n",
      "390     MS   M   20       U     LE3       A     2     2  services  services   \n",
      "391     MS   M   17       U     LE3       T     3     1  services  services   \n",
      "392     MS   M   21       R     GT3       T     1     1     other     other   \n",
      "393     MS   M   18       R     LE3       T     3     2  services     other   \n",
      "394     MS   M   19       U     LE3       T     1     1     other   at_home   \n",
      "\n",
      "     ...   internet romantic  famrel  freetime  goout Dalc Walc health  \\\n",
      "390  ...         no       no       5         5      4    4    5      4   \n",
      "391  ...        yes       no       2         4      5    3    4      2   \n",
      "392  ...         no       no       5         5      3    3    3      3   \n",
      "393  ...        yes       no       4         4      1    3    4      5   \n",
      "394  ...        yes       no       3         2      3    3    3      5   \n",
      "\n",
      "    absences passed  \n",
      "390       11     no  \n",
      "391        3    yes  \n",
      "392        3     no  \n",
      "393        0    yes  \n",
      "394        5     no  \n",
      "\n",
      "[5 rows x 31 columns]\n"
     ]
    }
   ],
   "source": [
    "#Just for see basic information of data\n",
    "\n",
    "print type(student_data)\n",
    "print student_data.head()\n",
    "print student_data.tail()"
   ]
  },
  {
   "cell_type": "code",
   "execution_count": 3,
   "metadata": {},
   "outputs": [
    {
     "data": {
      "text/html": [
       "<div>\n",
       "<style>\n",
       "    .dataframe thead tr:only-child th {\n",
       "        text-align: right;\n",
       "    }\n",
       "\n",
       "    .dataframe thead th {\n",
       "        text-align: left;\n",
       "    }\n",
       "\n",
       "    .dataframe tbody tr th {\n",
       "        vertical-align: top;\n",
       "    }\n",
       "</style>\n",
       "<table border=\"1\" class=\"dataframe\">\n",
       "  <thead>\n",
       "    <tr style=\"text-align: right;\">\n",
       "      <th></th>\n",
       "      <th>school</th>\n",
       "      <th>sex</th>\n",
       "      <th>age</th>\n",
       "      <th>address</th>\n",
       "      <th>famsize</th>\n",
       "      <th>Pstatus</th>\n",
       "      <th>Medu</th>\n",
       "      <th>Fedu</th>\n",
       "      <th>Mjob</th>\n",
       "      <th>Fjob</th>\n",
       "      <th>...</th>\n",
       "      <th>internet</th>\n",
       "      <th>romantic</th>\n",
       "      <th>famrel</th>\n",
       "      <th>freetime</th>\n",
       "      <th>goout</th>\n",
       "      <th>Dalc</th>\n",
       "      <th>Walc</th>\n",
       "      <th>health</th>\n",
       "      <th>absences</th>\n",
       "      <th>passed</th>\n",
       "    </tr>\n",
       "  </thead>\n",
       "  <tbody>\n",
       "    <tr>\n",
       "      <th>0</th>\n",
       "      <td>GP</td>\n",
       "      <td>F</td>\n",
       "      <td>18</td>\n",
       "      <td>U</td>\n",
       "      <td>GT3</td>\n",
       "      <td>A</td>\n",
       "      <td>4</td>\n",
       "      <td>4</td>\n",
       "      <td>at_home</td>\n",
       "      <td>teacher</td>\n",
       "      <td>...</td>\n",
       "      <td>no</td>\n",
       "      <td>no</td>\n",
       "      <td>4</td>\n",
       "      <td>3</td>\n",
       "      <td>4</td>\n",
       "      <td>1</td>\n",
       "      <td>1</td>\n",
       "      <td>3</td>\n",
       "      <td>6</td>\n",
       "      <td>no</td>\n",
       "    </tr>\n",
       "    <tr>\n",
       "      <th>1</th>\n",
       "      <td>GP</td>\n",
       "      <td>F</td>\n",
       "      <td>17</td>\n",
       "      <td>U</td>\n",
       "      <td>GT3</td>\n",
       "      <td>T</td>\n",
       "      <td>1</td>\n",
       "      <td>1</td>\n",
       "      <td>at_home</td>\n",
       "      <td>other</td>\n",
       "      <td>...</td>\n",
       "      <td>yes</td>\n",
       "      <td>no</td>\n",
       "      <td>5</td>\n",
       "      <td>3</td>\n",
       "      <td>3</td>\n",
       "      <td>1</td>\n",
       "      <td>1</td>\n",
       "      <td>3</td>\n",
       "      <td>4</td>\n",
       "      <td>no</td>\n",
       "    </tr>\n",
       "    <tr>\n",
       "      <th>2</th>\n",
       "      <td>GP</td>\n",
       "      <td>F</td>\n",
       "      <td>15</td>\n",
       "      <td>U</td>\n",
       "      <td>LE3</td>\n",
       "      <td>T</td>\n",
       "      <td>1</td>\n",
       "      <td>1</td>\n",
       "      <td>at_home</td>\n",
       "      <td>other</td>\n",
       "      <td>...</td>\n",
       "      <td>yes</td>\n",
       "      <td>no</td>\n",
       "      <td>4</td>\n",
       "      <td>3</td>\n",
       "      <td>2</td>\n",
       "      <td>2</td>\n",
       "      <td>3</td>\n",
       "      <td>3</td>\n",
       "      <td>10</td>\n",
       "      <td>yes</td>\n",
       "    </tr>\n",
       "    <tr>\n",
       "      <th>3</th>\n",
       "      <td>GP</td>\n",
       "      <td>F</td>\n",
       "      <td>15</td>\n",
       "      <td>U</td>\n",
       "      <td>GT3</td>\n",
       "      <td>T</td>\n",
       "      <td>4</td>\n",
       "      <td>2</td>\n",
       "      <td>health</td>\n",
       "      <td>services</td>\n",
       "      <td>...</td>\n",
       "      <td>yes</td>\n",
       "      <td>yes</td>\n",
       "      <td>3</td>\n",
       "      <td>2</td>\n",
       "      <td>2</td>\n",
       "      <td>1</td>\n",
       "      <td>1</td>\n",
       "      <td>5</td>\n",
       "      <td>2</td>\n",
       "      <td>yes</td>\n",
       "    </tr>\n",
       "    <tr>\n",
       "      <th>4</th>\n",
       "      <td>GP</td>\n",
       "      <td>F</td>\n",
       "      <td>16</td>\n",
       "      <td>U</td>\n",
       "      <td>GT3</td>\n",
       "      <td>T</td>\n",
       "      <td>3</td>\n",
       "      <td>3</td>\n",
       "      <td>other</td>\n",
       "      <td>other</td>\n",
       "      <td>...</td>\n",
       "      <td>no</td>\n",
       "      <td>no</td>\n",
       "      <td>4</td>\n",
       "      <td>3</td>\n",
       "      <td>2</td>\n",
       "      <td>1</td>\n",
       "      <td>2</td>\n",
       "      <td>5</td>\n",
       "      <td>4</td>\n",
       "      <td>yes</td>\n",
       "    </tr>\n",
       "  </tbody>\n",
       "</table>\n",
       "<p>5 rows × 31 columns</p>\n",
       "</div>"
      ],
      "text/plain": [
       "  school sex  age address famsize Pstatus  Medu  Fedu     Mjob      Fjob  \\\n",
       "0     GP   F   18       U     GT3       A     4     4  at_home   teacher   \n",
       "1     GP   F   17       U     GT3       T     1     1  at_home     other   \n",
       "2     GP   F   15       U     LE3       T     1     1  at_home     other   \n",
       "3     GP   F   15       U     GT3       T     4     2   health  services   \n",
       "4     GP   F   16       U     GT3       T     3     3    other     other   \n",
       "\n",
       "   ...   internet romantic  famrel  freetime  goout Dalc Walc health absences  \\\n",
       "0  ...         no       no       4         3      4    1    1      3        6   \n",
       "1  ...        yes       no       5         3      3    1    1      3        4   \n",
       "2  ...        yes       no       4         3      2    2    3      3       10   \n",
       "3  ...        yes      yes       3         2      2    1    1      5        2   \n",
       "4  ...         no       no       4         3      2    1    2      5        4   \n",
       "\n",
       "  passed  \n",
       "0     no  \n",
       "1     no  \n",
       "2    yes  \n",
       "3    yes  \n",
       "4    yes  \n",
       "\n",
       "[5 rows x 31 columns]"
      ]
     },
     "execution_count": 3,
     "metadata": {},
     "output_type": "execute_result"
    }
   ],
   "source": [
    "student_data.head()"
   ]
  },
  {
   "cell_type": "code",
   "execution_count": 4,
   "metadata": {},
   "outputs": [
    {
     "data": {
      "text/html": [
       "<div>\n",
       "<style>\n",
       "    .dataframe thead tr:only-child th {\n",
       "        text-align: right;\n",
       "    }\n",
       "\n",
       "    .dataframe thead th {\n",
       "        text-align: left;\n",
       "    }\n",
       "\n",
       "    .dataframe tbody tr th {\n",
       "        vertical-align: top;\n",
       "    }\n",
       "</style>\n",
       "<table border=\"1\" class=\"dataframe\">\n",
       "  <thead>\n",
       "    <tr style=\"text-align: right;\">\n",
       "      <th></th>\n",
       "      <th>school</th>\n",
       "      <th>sex</th>\n",
       "      <th>age</th>\n",
       "      <th>address</th>\n",
       "      <th>famsize</th>\n",
       "      <th>Pstatus</th>\n",
       "      <th>Medu</th>\n",
       "      <th>Fedu</th>\n",
       "      <th>Mjob</th>\n",
       "      <th>Fjob</th>\n",
       "      <th>...</th>\n",
       "      <th>internet</th>\n",
       "      <th>romantic</th>\n",
       "      <th>famrel</th>\n",
       "      <th>freetime</th>\n",
       "      <th>goout</th>\n",
       "      <th>Dalc</th>\n",
       "      <th>Walc</th>\n",
       "      <th>health</th>\n",
       "      <th>absences</th>\n",
       "      <th>passed</th>\n",
       "    </tr>\n",
       "  </thead>\n",
       "  <tbody>\n",
       "    <tr>\n",
       "      <th>390</th>\n",
       "      <td>MS</td>\n",
       "      <td>M</td>\n",
       "      <td>20</td>\n",
       "      <td>U</td>\n",
       "      <td>LE3</td>\n",
       "      <td>A</td>\n",
       "      <td>2</td>\n",
       "      <td>2</td>\n",
       "      <td>services</td>\n",
       "      <td>services</td>\n",
       "      <td>...</td>\n",
       "      <td>no</td>\n",
       "      <td>no</td>\n",
       "      <td>5</td>\n",
       "      <td>5</td>\n",
       "      <td>4</td>\n",
       "      <td>4</td>\n",
       "      <td>5</td>\n",
       "      <td>4</td>\n",
       "      <td>11</td>\n",
       "      <td>no</td>\n",
       "    </tr>\n",
       "    <tr>\n",
       "      <th>391</th>\n",
       "      <td>MS</td>\n",
       "      <td>M</td>\n",
       "      <td>17</td>\n",
       "      <td>U</td>\n",
       "      <td>LE3</td>\n",
       "      <td>T</td>\n",
       "      <td>3</td>\n",
       "      <td>1</td>\n",
       "      <td>services</td>\n",
       "      <td>services</td>\n",
       "      <td>...</td>\n",
       "      <td>yes</td>\n",
       "      <td>no</td>\n",
       "      <td>2</td>\n",
       "      <td>4</td>\n",
       "      <td>5</td>\n",
       "      <td>3</td>\n",
       "      <td>4</td>\n",
       "      <td>2</td>\n",
       "      <td>3</td>\n",
       "      <td>yes</td>\n",
       "    </tr>\n",
       "    <tr>\n",
       "      <th>392</th>\n",
       "      <td>MS</td>\n",
       "      <td>M</td>\n",
       "      <td>21</td>\n",
       "      <td>R</td>\n",
       "      <td>GT3</td>\n",
       "      <td>T</td>\n",
       "      <td>1</td>\n",
       "      <td>1</td>\n",
       "      <td>other</td>\n",
       "      <td>other</td>\n",
       "      <td>...</td>\n",
       "      <td>no</td>\n",
       "      <td>no</td>\n",
       "      <td>5</td>\n",
       "      <td>5</td>\n",
       "      <td>3</td>\n",
       "      <td>3</td>\n",
       "      <td>3</td>\n",
       "      <td>3</td>\n",
       "      <td>3</td>\n",
       "      <td>no</td>\n",
       "    </tr>\n",
       "    <tr>\n",
       "      <th>393</th>\n",
       "      <td>MS</td>\n",
       "      <td>M</td>\n",
       "      <td>18</td>\n",
       "      <td>R</td>\n",
       "      <td>LE3</td>\n",
       "      <td>T</td>\n",
       "      <td>3</td>\n",
       "      <td>2</td>\n",
       "      <td>services</td>\n",
       "      <td>other</td>\n",
       "      <td>...</td>\n",
       "      <td>yes</td>\n",
       "      <td>no</td>\n",
       "      <td>4</td>\n",
       "      <td>4</td>\n",
       "      <td>1</td>\n",
       "      <td>3</td>\n",
       "      <td>4</td>\n",
       "      <td>5</td>\n",
       "      <td>0</td>\n",
       "      <td>yes</td>\n",
       "    </tr>\n",
       "    <tr>\n",
       "      <th>394</th>\n",
       "      <td>MS</td>\n",
       "      <td>M</td>\n",
       "      <td>19</td>\n",
       "      <td>U</td>\n",
       "      <td>LE3</td>\n",
       "      <td>T</td>\n",
       "      <td>1</td>\n",
       "      <td>1</td>\n",
       "      <td>other</td>\n",
       "      <td>at_home</td>\n",
       "      <td>...</td>\n",
       "      <td>yes</td>\n",
       "      <td>no</td>\n",
       "      <td>3</td>\n",
       "      <td>2</td>\n",
       "      <td>3</td>\n",
       "      <td>3</td>\n",
       "      <td>3</td>\n",
       "      <td>5</td>\n",
       "      <td>5</td>\n",
       "      <td>no</td>\n",
       "    </tr>\n",
       "  </tbody>\n",
       "</table>\n",
       "<p>5 rows × 31 columns</p>\n",
       "</div>"
      ],
      "text/plain": [
       "    school sex  age address famsize Pstatus  Medu  Fedu      Mjob      Fjob  \\\n",
       "390     MS   M   20       U     LE3       A     2     2  services  services   \n",
       "391     MS   M   17       U     LE3       T     3     1  services  services   \n",
       "392     MS   M   21       R     GT3       T     1     1     other     other   \n",
       "393     MS   M   18       R     LE3       T     3     2  services     other   \n",
       "394     MS   M   19       U     LE3       T     1     1     other   at_home   \n",
       "\n",
       "     ...   internet romantic  famrel  freetime  goout Dalc Walc health  \\\n",
       "390  ...         no       no       5         5      4    4    5      4   \n",
       "391  ...        yes       no       2         4      5    3    4      2   \n",
       "392  ...         no       no       5         5      3    3    3      3   \n",
       "393  ...        yes       no       4         4      1    3    4      5   \n",
       "394  ...        yes       no       3         2      3    3    3      5   \n",
       "\n",
       "    absences passed  \n",
       "390       11     no  \n",
       "391        3    yes  \n",
       "392        3     no  \n",
       "393        0    yes  \n",
       "394        5     no  \n",
       "\n",
       "[5 rows x 31 columns]"
      ]
     },
     "execution_count": 4,
     "metadata": {},
     "output_type": "execute_result"
    }
   ],
   "source": [
    "student_data.tail()"
   ]
  },
  {
   "cell_type": "code",
   "execution_count": 5,
   "metadata": {},
   "outputs": [
    {
     "name": "stdout",
     "output_type": "stream",
     "text": [
      "Total number of students: 395\n",
      "Number of features: 31\n",
      "Number of students who passed: 265\n",
      "Number of students who failed: 130\n",
      "Graduation rate of the class: 67.09%\n"
     ]
    }
   ],
   "source": [
    "# TODO: Calculate number of students\n",
    "n_students = student_data.shape[0]\n",
    "\n",
    "# TODO: Calculate number of features\n",
    "n_features = student_data.shape[1]\n",
    "\n",
    "# TODO: Calculate passing students\n",
    "n_passed = len(student_data[student_data['passed']=='yes'])\n",
    "\n",
    "# TODO: Calculate failing students\n",
    "n_failed = len(student_data[student_data['passed']=='no'])\n",
    "\n",
    "# TODO: Calculate graduation rate\n",
    "grad_rate = (float(n_passed)/float(n_students))*100\n",
    "\n",
    "# Print the results\n",
    "print \"Total number of students: {}\".format(n_students)\n",
    "print \"Number of features: {}\".format(n_features)\n",
    "print \"Number of students who passed: {}\".format(n_passed)\n",
    "print \"Number of students who failed: {}\".format(n_failed)\n",
    "print \"Graduation rate of the class: {:.2f}%\".format(grad_rate)"
   ]
  },
  {
   "cell_type": "markdown",
   "metadata": {},
   "source": [
    "## Preparing the Data\n",
    "In this section, we will prepare the data for modeling, training and testing.\n",
    "\n",
    "### Identify feature and target columns\n",
    "It is often the case that the data you obtain contains non-numeric features. This can be a problem, as most machine learning algorithms expect numeric data to perform computations with.\n",
    "\n",
    "Run the code cell below to separate the student data into feature and target columns to see if any features are non-numeric."
   ]
  },
  {
   "cell_type": "code",
   "execution_count": 6,
   "metadata": {},
   "outputs": [
    {
     "name": "stdout",
     "output_type": "stream",
     "text": [
      "Feature columns:\n",
      "['school', 'sex', 'age', 'address', 'famsize', 'Pstatus', 'Medu', 'Fedu', 'Mjob', 'Fjob', 'reason', 'guardian', 'traveltime', 'studytime', 'failures', 'schoolsup', 'famsup', 'paid', 'activities', 'nursery', 'higher', 'internet', 'romantic', 'famrel', 'freetime', 'goout', 'Dalc', 'Walc', 'health', 'absences']\n",
      "\n",
      "Target column: passed\n",
      "\n",
      "Feature values:\n",
      "  school sex  age address famsize Pstatus  Medu  Fedu     Mjob      Fjob  \\\n",
      "0     GP   F   18       U     GT3       A     4     4  at_home   teacher   \n",
      "1     GP   F   17       U     GT3       T     1     1  at_home     other   \n",
      "2     GP   F   15       U     LE3       T     1     1  at_home     other   \n",
      "3     GP   F   15       U     GT3       T     4     2   health  services   \n",
      "4     GP   F   16       U     GT3       T     3     3    other     other   \n",
      "\n",
      "    ...    higher internet  romantic  famrel  freetime goout Dalc Walc health  \\\n",
      "0   ...       yes       no        no       4         3     4    1    1      3   \n",
      "1   ...       yes      yes        no       5         3     3    1    1      3   \n",
      "2   ...       yes      yes        no       4         3     2    2    3      3   \n",
      "3   ...       yes      yes       yes       3         2     2    1    1      5   \n",
      "4   ...       yes       no        no       4         3     2    1    2      5   \n",
      "\n",
      "  absences  \n",
      "0        6  \n",
      "1        4  \n",
      "2       10  \n",
      "3        2  \n",
      "4        4  \n",
      "\n",
      "[5 rows x 30 columns]\n"
     ]
    }
   ],
   "source": [
    "# Extract feature columns\n",
    "feature_cols = list(student_data.columns[:-1])\n",
    "\n",
    "# Extract target column 'passed'\n",
    "target_col = student_data.columns[-1] \n",
    "\n",
    "# Show the list of columns\n",
    "print \"Feature columns:\\n{}\".format(feature_cols)\n",
    "print \"\\nTarget column: {}\".format(target_col)\n",
    "\n",
    "# Separate the data into feature data and target data (X_all and y_all, respectively)\n",
    "X_all = student_data[feature_cols]\n",
    "y_all = student_data[target_col]\n",
    "\n",
    "# Show the feature information by printing the first five rows\n",
    "print \"\\nFeature values:\"\n",
    "print X_all.head()"
   ]
  },
  {
   "cell_type": "markdown",
   "metadata": {},
   "source": [
    "### Preprocess Feature Columns\n",
    "\n",
    "As you can see, there are several non-numeric columns that need to be converted! Many of them are simply `yes`/`no`, e.g. `internet`. These can be reasonably converted into `1`/`0` (binary) values.\n",
    "\n",
    "Other columns, like `Mjob` and `Fjob`, have more than two values, and are known as _categorical variables_. The recommended way to handle such a column is to create as many columns as possible values (e.g. `Fjob_teacher`, `Fjob_other`, `Fjob_services`, etc.), and assign a `1` to one of them and `0` to all others.\n",
    "\n",
    "These generated columns are sometimes called _dummy variables_, and we will use the [`pandas.get_dummies()`](http://pandas.pydata.org/pandas-docs/stable/generated/pandas.get_dummies.html?highlight=get_dummies#pandas.get_dummies) function to perform this transformation. Run the code cell below to perform the preprocessing routine discussed in this section.\n",
    "\n",
    "**Documents Consulted:**\n",
    "\n",
    "- [pandas.DataFrame](https://pandas.pydata.org/pandas-docs/stable/generated/pandas.DataFrame.html)\n",
    "- [Indexing and Selecting Data](https://pandas.pydata.org/pandas-docs/stable/indexing.html)\n",
    "- [.dtype == object](https://stackoverflow.com/questions/21018654/strings-in-a-dataframe-but-dtype-is-object)\n"
   ]
  },
  {
   "cell_type": "code",
   "execution_count": 7,
   "metadata": {
    "collapsed": true
   },
   "outputs": [],
   "source": [
    "#Simple Example for undestand Dataframe.iterrows()\n",
    "\n",
    "#test = pd.DataFrame({'a': [1, 2, 3], 'b': [4, 5, 6]}, index = ['A', 'B', 'C'])\n",
    "#print test\n",
    "#i = 10\n",
    "#for index, row in test.iterrows():\n",
    "#    print '\\n'\n",
    "#    print '\\n'\n",
    "#    \n",
    "#    print index\n",
    "#    print row\n",
    "#    \n",
    "#    row['a'] = (i)\n",
    "#    i += 1\n",
    "    \n",
    "#for col, col_data in test.iteritems():\n",
    "#    print '\\n'\n",
    "#    print '\\n'\n",
    "#    \n",
    "#    print col\n",
    "#    print col_data\n",
    " \n",
    "    \n",
    "    \n",
    "#print test"
   ]
  },
  {
   "cell_type": "code",
   "execution_count": 8,
   "metadata": {},
   "outputs": [
    {
     "name": "stdout",
     "output_type": "stream",
     "text": [
      "Processed feature columns (48 total features):\n",
      "['school_GP', 'school_MS', 'sex_F', 'sex_M', 'age', 'address_R', 'address_U', 'famsize_GT3', 'famsize_LE3', 'Pstatus_A', 'Pstatus_T', 'Medu', 'Fedu', 'Mjob_at_home', 'Mjob_health', 'Mjob_other', 'Mjob_services', 'Mjob_teacher', 'Fjob_at_home', 'Fjob_health', 'Fjob_other', 'Fjob_services', 'Fjob_teacher', 'reason_course', 'reason_home', 'reason_other', 'reason_reputation', 'guardian_father', 'guardian_mother', 'guardian_other', 'traveltime', 'studytime', 'failures', 'schoolsup', 'famsup', 'paid', 'activities', 'nursery', 'higher', 'internet', 'romantic', 'famrel', 'freetime', 'goout', 'Dalc', 'Walc', 'health', 'absences']\n"
     ]
    }
   ],
   "source": [
    "def preprocess_features(X):\n",
    "    ''' Preprocesses the student data and converts non-numeric binary variables into\n",
    "        binary (0/1) variables. Converts categorical variables into dummy variables. '''\n",
    "    \n",
    "    # Initialize new output DataFrame\n",
    "    output = pd.DataFrame(index = X.index)\n",
    "\n",
    "    # Investigate each feature column for the data\n",
    "    for col, col_data in X.iteritems():\n",
    "        \n",
    "        # If data type is non-numeric, replace all yes/no values with 1/0\n",
    "        #print col_data.dtype\n",
    "        if col_data.dtype == object:\n",
    "            #print col_data\n",
    "            #.replace only replace dtype objetc and with 'yes' or 'no'\n",
    "            #Momentarily Change, X Dataframe keeps original values ('yes' or 'no')\n",
    "            col_data = col_data.replace(['yes', 'no'], [1, 0]) \n",
    "\n",
    "        # If data type is categorical, convert to dummy variables\n",
    "        #print col_data.dtype\n",
    "        if col_data.dtype == object:\n",
    "            # Example: 'school' => 'school_GP' and 'school_MS'\n",
    "            col_data = pd.get_dummies(col_data, prefix = col)  \n",
    "        \n",
    "        # Collect the revised columns\n",
    "        #Save the changes\n",
    "        output = output.join(col_data)\n",
    "        #print output\n",
    "    \n",
    "    return output\n",
    "\n",
    "X_all = preprocess_features(X_all)\n",
    "print \"Processed feature columns ({} total features):\\n{}\".format(len(X_all.columns), list(X_all.columns))"
   ]
  },
  {
   "cell_type": "markdown",
   "metadata": {},
   "source": [
    "### Implementation: Training and Testing Data Split\n",
    "So far, we have converted all _categorical_ features into numeric values. For the next step, we split the data (both features and corresponding labels) into training and test sets. In the following code cell below, you will need to implement the following:\n",
    "- Randomly shuffle and split the data (`X_all`, `y_all`) into training and testing subsets.\n",
    "  - Use 300 training points (approximately 75%) and 95 testing points (approximately 25%).\n",
    "  - Set a `random_state` for the function(s) you use, if provided.\n",
    "  - Store the results in `X_train`, `X_test`, `y_train`, and `y_test`."
   ]
  },
  {
   "cell_type": "markdown",
   "metadata": {},
   "source": [
    "**Documents Consulted:**\n",
    "\n",
    "-[sklearn.model_selection.train_test_split](http://scikit-learn.org/stable/modules/generated/sklearn.model_selection.train_test_split.html)"
   ]
  },
  {
   "cell_type": "code",
   "execution_count": 9,
   "metadata": {},
   "outputs": [
    {
     "name": "stdout",
     "output_type": "stream",
     "text": [
      "Training set has 300 samples.\n",
      "Testing set has 95 samples.\n"
     ]
    }
   ],
   "source": [
    "# TODO: Import any additional functionality you may need here\n",
    "from sklearn.model_selection import train_test_split\n",
    "\n",
    "# TODO: Set the number of training points\n",
    "num_train = 300\n",
    "\n",
    "# Set the number of testing points\n",
    "num_test = X_all.shape[0] - num_train\n",
    "\n",
    "# TODO: Shuffle and split the dataset into the number of training and testing points above\n",
    "X_train, X_test, y_train, y_test = train_test_split(X_all, y_all, test_size=num_test, train_size=num_train , random_state=42)\n",
    "\n",
    "# Show the results of the split\n",
    "print \"Training set has {} samples.\".format(X_train.shape[0])\n",
    "print \"Testing set has {} samples.\".format(X_test.shape[0])"
   ]
  },
  {
   "cell_type": "code",
   "execution_count": 10,
   "metadata": {},
   "outputs": [
    {
     "data": {
      "text/html": [
       "<div>\n",
       "<style>\n",
       "    .dataframe thead tr:only-child th {\n",
       "        text-align: right;\n",
       "    }\n",
       "\n",
       "    .dataframe thead th {\n",
       "        text-align: left;\n",
       "    }\n",
       "\n",
       "    .dataframe tbody tr th {\n",
       "        vertical-align: top;\n",
       "    }\n",
       "</style>\n",
       "<table border=\"1\" class=\"dataframe\">\n",
       "  <thead>\n",
       "    <tr style=\"text-align: right;\">\n",
       "      <th></th>\n",
       "      <th>school_GP</th>\n",
       "      <th>school_MS</th>\n",
       "      <th>sex_F</th>\n",
       "      <th>sex_M</th>\n",
       "      <th>age</th>\n",
       "      <th>address_R</th>\n",
       "      <th>address_U</th>\n",
       "      <th>famsize_GT3</th>\n",
       "      <th>famsize_LE3</th>\n",
       "      <th>Pstatus_A</th>\n",
       "      <th>...</th>\n",
       "      <th>higher</th>\n",
       "      <th>internet</th>\n",
       "      <th>romantic</th>\n",
       "      <th>famrel</th>\n",
       "      <th>freetime</th>\n",
       "      <th>goout</th>\n",
       "      <th>Dalc</th>\n",
       "      <th>Walc</th>\n",
       "      <th>health</th>\n",
       "      <th>absences</th>\n",
       "    </tr>\n",
       "  </thead>\n",
       "  <tbody>\n",
       "    <tr>\n",
       "      <th>210</th>\n",
       "      <td>1</td>\n",
       "      <td>0</td>\n",
       "      <td>1</td>\n",
       "      <td>0</td>\n",
       "      <td>19</td>\n",
       "      <td>0</td>\n",
       "      <td>1</td>\n",
       "      <td>1</td>\n",
       "      <td>0</td>\n",
       "      <td>0</td>\n",
       "      <td>...</td>\n",
       "      <td>1</td>\n",
       "      <td>1</td>\n",
       "      <td>0</td>\n",
       "      <td>4</td>\n",
       "      <td>3</td>\n",
       "      <td>3</td>\n",
       "      <td>1</td>\n",
       "      <td>2</td>\n",
       "      <td>3</td>\n",
       "      <td>10</td>\n",
       "    </tr>\n",
       "    <tr>\n",
       "      <th>75</th>\n",
       "      <td>1</td>\n",
       "      <td>0</td>\n",
       "      <td>0</td>\n",
       "      <td>1</td>\n",
       "      <td>15</td>\n",
       "      <td>0</td>\n",
       "      <td>1</td>\n",
       "      <td>1</td>\n",
       "      <td>0</td>\n",
       "      <td>0</td>\n",
       "      <td>...</td>\n",
       "      <td>1</td>\n",
       "      <td>1</td>\n",
       "      <td>0</td>\n",
       "      <td>4</td>\n",
       "      <td>3</td>\n",
       "      <td>3</td>\n",
       "      <td>2</td>\n",
       "      <td>3</td>\n",
       "      <td>5</td>\n",
       "      <td>6</td>\n",
       "    </tr>\n",
       "    <tr>\n",
       "      <th>104</th>\n",
       "      <td>1</td>\n",
       "      <td>0</td>\n",
       "      <td>0</td>\n",
       "      <td>1</td>\n",
       "      <td>15</td>\n",
       "      <td>0</td>\n",
       "      <td>1</td>\n",
       "      <td>1</td>\n",
       "      <td>0</td>\n",
       "      <td>1</td>\n",
       "      <td>...</td>\n",
       "      <td>1</td>\n",
       "      <td>1</td>\n",
       "      <td>0</td>\n",
       "      <td>5</td>\n",
       "      <td>4</td>\n",
       "      <td>4</td>\n",
       "      <td>1</td>\n",
       "      <td>1</td>\n",
       "      <td>1</td>\n",
       "      <td>0</td>\n",
       "    </tr>\n",
       "    <tr>\n",
       "      <th>374</th>\n",
       "      <td>0</td>\n",
       "      <td>1</td>\n",
       "      <td>1</td>\n",
       "      <td>0</td>\n",
       "      <td>18</td>\n",
       "      <td>1</td>\n",
       "      <td>0</td>\n",
       "      <td>0</td>\n",
       "      <td>1</td>\n",
       "      <td>0</td>\n",
       "      <td>...</td>\n",
       "      <td>1</td>\n",
       "      <td>1</td>\n",
       "      <td>0</td>\n",
       "      <td>5</td>\n",
       "      <td>4</td>\n",
       "      <td>4</td>\n",
       "      <td>1</td>\n",
       "      <td>1</td>\n",
       "      <td>1</td>\n",
       "      <td>0</td>\n",
       "    </tr>\n",
       "    <tr>\n",
       "      <th>16</th>\n",
       "      <td>1</td>\n",
       "      <td>0</td>\n",
       "      <td>1</td>\n",
       "      <td>0</td>\n",
       "      <td>16</td>\n",
       "      <td>0</td>\n",
       "      <td>1</td>\n",
       "      <td>1</td>\n",
       "      <td>0</td>\n",
       "      <td>0</td>\n",
       "      <td>...</td>\n",
       "      <td>1</td>\n",
       "      <td>1</td>\n",
       "      <td>0</td>\n",
       "      <td>3</td>\n",
       "      <td>2</td>\n",
       "      <td>3</td>\n",
       "      <td>1</td>\n",
       "      <td>2</td>\n",
       "      <td>2</td>\n",
       "      <td>6</td>\n",
       "    </tr>\n",
       "  </tbody>\n",
       "</table>\n",
       "<p>5 rows × 48 columns</p>\n",
       "</div>"
      ],
      "text/plain": [
       "     school_GP  school_MS  sex_F  sex_M  age  address_R  address_U  \\\n",
       "210          1          0      1      0   19          0          1   \n",
       "75           1          0      0      1   15          0          1   \n",
       "104          1          0      0      1   15          0          1   \n",
       "374          0          1      1      0   18          1          0   \n",
       "16           1          0      1      0   16          0          1   \n",
       "\n",
       "     famsize_GT3  famsize_LE3  Pstatus_A    ...     higher  internet  \\\n",
       "210            1            0          0    ...          1         1   \n",
       "75             1            0          0    ...          1         1   \n",
       "104            1            0          1    ...          1         1   \n",
       "374            0            1          0    ...          1         1   \n",
       "16             1            0          0    ...          1         1   \n",
       "\n",
       "     romantic  famrel  freetime  goout  Dalc  Walc  health  absences  \n",
       "210         0       4         3      3     1     2       3        10  \n",
       "75          0       4         3      3     2     3       5         6  \n",
       "104         0       5         4      4     1     1       1         0  \n",
       "374         0       5         4      4     1     1       1         0  \n",
       "16          0       3         2      3     1     2       2         6  \n",
       "\n",
       "[5 rows x 48 columns]"
      ]
     },
     "execution_count": 10,
     "metadata": {},
     "output_type": "execute_result"
    }
   ],
   "source": [
    "X_train.head()"
   ]
  },
  {
   "cell_type": "markdown",
   "metadata": {},
   "source": [
    "## Training and Evaluating Models\n",
    "In this section, you will choose 3 supervised learning models that are appropriate for this problem and available in `scikit-learn`. You will first discuss the reasoning behind choosing these three models by considering what you know about the data and each model's strengths and weaknesses. You will then fit the model to varying sizes of training data (100 data points, 200 data points, and 300 data points) and measure the F<sub>1</sub> score. You will need to produce three tables (one for each model) that shows the training set size, training time, prediction time, F<sub>1</sub> score on the training set, and F<sub>1</sub> score on the testing set.\n",
    "\n",
    "**The following supervised learning models are currently available in** [`scikit-learn`](http://scikit-learn.org/stable/supervised_learning.html) **that you may choose from:**\n",
    "- Gaussian Naive Bayes (GaussianNB)\n",
    "- **Decision Trees**\n",
    "- Ensemble Methods (Bagging, AdaBoost, Random Forest, Gradient Boosting)\n",
    "- K-Nearest Neighbors (KNeighbors)\n",
    "- Stochastic Gradient Descent (SGDC)\n",
    "- **Support Vector Machines (SVM)**\n",
    "- **Logistic Regression**"
   ]
  },
  {
   "cell_type": "markdown",
   "metadata": {},
   "source": [
    "### Question 2 - Model Application\n",
    "*List three supervised learning models that are appropriate for this problem. For each model chosen*\n",
    "- Describe one real-world application in industry where the model can be applied. *(You may need to do a small bit of research for this — give references!)* \n",
    "- What are the strengths of the model; when does it perform well? \n",
    "- What are the weaknesses of the model; when does it perform poorly?\n",
    "- What makes this model a good candidate for the problem, given what you know about the data?"
   ]
  },
  {
   "cell_type": "markdown",
   "metadata": {},
   "source": [
    "#### Considerations about the Data and Problem\n",
    "\n",
    "- classification problem\n",
    "- little amount of labeled data for learning\n",
    "- the output classifitication is binary \n",
    "- the prediction have to be fast, but not instantly\n",
    "- the learning process can be slow because we have few training samples\n",
    "- memory size have to be small as possible\n",
    "- we have 48 features (now, just discrete or numerical features) \n",
    "- objetive: find the most effective model that uses the least amount of computation costs\n",
    "\n",
    "**Answer: **For this problem based on the \"Considerations about the Data ans Problem\", I chosen Logistic Regression,  Support Vector Machine and  Decision Tree. \n",
    "\n",
    "\n",
    "**1. Logistic Regression**\n",
    "\n",
    "\n",
    "    Strengths: Outputs easy probabilistic interpretation; can be regularized to avoid overfitting; Easily update with new data using stochastic gradient descent;[2] Fast to train; Performs well with small number of observations;\n",
    "    Weaknesses: \"Logistic regression tends to underperform when there are multiple or non-linear decision boundaries\"[2]; Not flexible with more complex relationships; Difficult to handle with noise data\n",
    "\n",
    "    Aplications: Investigate High Employee Turnover [12]; Spam Detection [9]; Credit Card Fraud [9];\n",
    "\n",
    "    Despite the word \"regression\" in the name, Logistic Regression is a linear model for Classification. The core of this method is based on Logistic Function (sigmoid function). This function has an S-shaped curve and take any value (input) and map it into a between 0 and 1, but not exactly these numbers.Inputs values are linearly combined using differents weights to predict an binary output. The coefficients for each input must be learned from training data.\n",
    "    Logistic Regression was one of my choices because we have few samples to training and it is a simple model that works well with a small number of training samples; is fast to training and predict results and if there isn't a complex relation between features it's can be enought.\n",
    "\n",
    "\n",
    "\n",
    "**2. Support Vector Machines**\n",
    "\n",
    "    \n",
    "    Strengths: Performs well with non-linear problems (if correct kernel); There are many kernels; Good for high dimensional data; Fast to predict; Predictions are fast;\n",
    "    Weaknesses:  Outputs are hard to interprets; Slow to train from many (>10000) examples; Requires large memory; Costly to learning;  Trickier to tune (dificult to find the right kernel);\n",
    "\n",
    "    Aplications: Face detection [10]; Clasification of Images [10]; Handwriting Recognition[10]; \n",
    "    \n",
    "    Support Vector Machine was chose because is a versatile model (many possible kernels); if there is complex (nonlinear) relationships this model works well and for small training samples it's fast to train and return predictions, therefore can be computationally accessible; \n",
    "    \n",
    "\n",
    "**3. Decision Tree**\n",
    "\n",
    "    \n",
    "    Strengths: simple model; easy to interpret and explain; simple to tune; fast for small number of training samples; Works well with missing values; works well with qualitative features;\n",
    "    Weaknesses:Easily to overffiting; Not good for big data problems; \n",
    "\n",
    "    Applications: Star-galaxy classification [11]; Control of nonlinear dynamical systems[11]; Medical diagnosis[11];\n",
    "\n",
    "    Decision Tree model can be use to Classification and Regression problems. It's used for inductive inference and ID3 is a very popular algorithm. For classification it represets a bunch of \"if-then' that resulting in a final decision. The \"Tree\" is construct by reapeatedly spliting the data into separete branches that maximize the information gain (\"similiar features\").[7,8]\n",
    "    This model was chose because: works well with small number of training data; it's simple to interpret and explian the results; it's good to handle with the categorical features of data; \n",
    "    \n",
    "    \n",
    "**References:**\n",
    "\n",
    "[1](http://www.dataschool.io/comparing-supervised-learning-algorithms/)\n",
    "[2](https://elitedatascience.com/machine-learning-algorithms)\n",
    "[3](http://scikit-learn.org/stable/modules/linear_model.html#logistic-regression)\n",
    "[4](http://www.dummies.com/programming/big-data/data-science/machine-learning-dummies-cheat-sheet/)\n",
    "[5](http://scikit-learn.org/stable/modules/svm.html)\n",
    "[6](http://scikit-learn.org/stable/modules/generated/sklearn.tree.DecisionTreeClassifier.html)\n",
    "[7](https://s3.amazonaws.com/video.udacity-data.com/topher/2017/June/593cda42_id3-algorithm-for-decision-trees/id3-algorithm-for-decision-trees.pdf)\n",
    "[8](https://web.cs.hacettepe.edu.tr/~ilyas/Courses/BIL712/lec02-DecisionTree.pdf)\n",
    "[9](https://www.machinelearningplus.com/logistic-regression-tutorial-examples-r/)\n",
    "[10](https://data-flair.training/blogs/applications-of-svm/)\n",
    "[11](http://www.cbcb.umd.edu/~salzberg/docs/murthy_thesis/survey/node32.html)\n",
    "[12](http://blog.minitab.com/blog/real-world-quality-improvement/using-binary-logistic-regression-to-investigate-high-employee-turnover)\n",
    "[13](https://recast.ai/blog/machine-learning-algorithms/)"
   ]
  },
  {
   "cell_type": "markdown",
   "metadata": {},
   "source": [
    "### Setup\n",
    "Run the code cell below to initialize three helper functions which you can use for training and testing the three supervised learning models you've chosen above. The functions are as follows:\n",
    "- `train_classifier` - takes as input a classifier and training data and fits the classifier to the data.\n",
    "- `predict_labels` - takes as input a fit classifier, features, and a target labeling and makes predictions using the F<sub>1</sub> score.\n",
    "- `train_predict` - takes as input a classifier, and the training and testing data, and performs `train_clasifier` and `predict_labels`.\n",
    "- This function will report the F<sub>1</sub> score for both the training and testing data separately."
   ]
  },
  {
   "cell_type": "code",
   "execution_count": 11,
   "metadata": {
    "collapsed": true
   },
   "outputs": [],
   "source": [
    "def train_classifier(clf, X_train, y_train):\n",
    "    ''' Fits a classifier to the training data. '''\n",
    "    \n",
    "    # Start the clock, train the classifier, then stop the clock\n",
    "    start = time()\n",
    "    clf.fit(X_train, y_train)\n",
    "    end = time()\n",
    "    \n",
    "    # Print the results\n",
    "    print \"Trained model in {:.4f} seconds\".format(end - start)\n",
    "\n",
    "    \n",
    "def predict_labels(clf, features, target):\n",
    "    ''' Makes predictions using a fit classifier based on F1 score. '''\n",
    "    \n",
    "    # Start the clock, make predictions, then stop the clock\n",
    "    start = time()\n",
    "    y_pred = clf.predict(features)\n",
    "    end = time()\n",
    "    \n",
    "    # Print and return results\n",
    "    print \"Made predictions in {:.4f} seconds.\".format(end - start)\n",
    "    return f1_score(target.values, y_pred, pos_label='yes')\n",
    "\n",
    "\n",
    "def train_predict(clf, X_train, y_train, X_test, y_test):\n",
    "    ''' Train and predict using a classifer based on F1 score. '''\n",
    "    \n",
    "    # Indicate the classifier and the training set size\n",
    "    print \"Training a {} using a training set size of {}. . .\".format(clf.__class__.__name__, len(X_train))\n",
    "    \n",
    "    # Train the classifier\n",
    "    train_classifier(clf, X_train, y_train)\n",
    "    \n",
    "    # Print the results of prediction for both training and testing\n",
    "    print \"F1 score for training set: {:.4f}.\".format(predict_labels(clf, X_train, y_train))\n",
    "    print \"F1 score for test set: {:.4f}.\".format(predict_labels(clf, X_test, y_test))"
   ]
  },
  {
   "cell_type": "markdown",
   "metadata": {},
   "source": [
    "### Implementation: Model Performance Metrics\n",
    "With the predefined functions above, you will now import the three supervised learning models of your choice and run the `train_predict` function for each one. Remember that you will need to train and predict on each classifier for three different training set sizes: 100, 200, and 300. Hence, you should expect to have 9 different outputs below — 3 for each model using the varying training set sizes. In the following code cell, you will need to implement the following:\n",
    "- Import the three supervised learning models you've discussed in the previous section.\n",
    "- Initialize the three models and store them in `clf_A`, `clf_B`, and `clf_C`.\n",
    " - Use a `random_state` for each model you use, if provided.\n",
    " - **Note:** Use the default settings for each model — you will tune one specific model in a later section.\n",
    "- Create the different training set sizes to be used to train each model.\n",
    " - *Do not reshuffle and resplit the data! The new training points should be drawn from `X_train` and `y_train`.*\n",
    "- Fit each model with each training set size and make predictions on the test set (9 in total).  \n",
    "**Note:** Three tables are provided after the following code cell which can be used to store your results."
   ]
  },
  {
   "cell_type": "code",
   "execution_count": 12,
   "metadata": {
    "collapsed": true
   },
   "outputs": [],
   "source": [
    "# TODO: Import the three supervised learning models from sklearn\n",
    "# from sklearn import model_A\n",
    "from sklearn.linear_model import LogisticRegression\n",
    "# from sklearn import model_B\n",
    "from sklearn.svm import SVC\n",
    "# from sklearn import model_C\n",
    "from sklearn.tree import DecisionTreeClassifier\n",
    "\n",
    "\n",
    "# TODO: Initialize the three models\n",
    "clf_A = LogisticRegression(random_state = 10)\n",
    "clf_B = SVC(random_state = 20)\n",
    "clf_C = DecisionTreeClassifier(random_state = 30)\n",
    "\n",
    "# TODO: Set up the training set sizes\n",
    "X_train_100 = X_train[:100]\n",
    "#print len(X_train_100)\n",
    "y_train_100 = y_train[:100]\n",
    "\n",
    "X_train_200 = X_train[:200]\n",
    "#print len(X_train_200)\n",
    "y_train_200 = y_train[:200]\n",
    "\n",
    "X_train_300 = X_train\n",
    "#print len(X_train_300)\n",
    "y_train_300 = y_train\n"
   ]
  },
  {
   "cell_type": "code",
   "execution_count": 13,
   "metadata": {},
   "outputs": [
    {
     "name": "stdout",
     "output_type": "stream",
     "text": [
      "*********************************\n",
      "1. Logistic Regression\n",
      "*********************************\n",
      "\n",
      "\n",
      "Training set size = 100\n",
      "Training a LogisticRegression using a training set size of 100. . .\n",
      "Trained model in 0.0110 seconds\n",
      "Made predictions in 0.0030 seconds.\n",
      "F1 score for training set: 0.8593.\n",
      "Made predictions in 0.0010 seconds.\n",
      "F1 score for test set: 0.7647.\n",
      "\n",
      "\n",
      "Training set size = 200\n",
      "Training a LogisticRegression using a training set size of 200. . .\n",
      "Trained model in 0.0040 seconds\n",
      "Made predictions in 0.0000 seconds.\n",
      "F1 score for training set: 0.8562.\n",
      "Made predictions in 0.0000 seconds.\n",
      "F1 score for test set: 0.7914.\n",
      "\n",
      "\n",
      "Training set size = 300\n",
      "Training a LogisticRegression using a training set size of 300. . .\n",
      "Trained model in 0.0050 seconds\n",
      "Made predictions in 0.0000 seconds.\n",
      "F1 score for training set: 0.8468.\n",
      "Made predictions in 0.0000 seconds.\n",
      "F1 score for test set: 0.8060.\n",
      "\n",
      "\n",
      "\n",
      "\n",
      "-----------------------------------------------------------------\n",
      "\n",
      "\n",
      "*********************************\n",
      "2. Support Vector Machine\n",
      "*********************************\n",
      "\n",
      "\n",
      "Training set size = 100\n",
      "Training a SVC using a training set size of 100. . .\n",
      "Trained model in 0.0020 seconds\n",
      "Made predictions in 0.0010 seconds.\n",
      "F1 score for training set: 0.8777.\n",
      "Made predictions in 0.0010 seconds.\n",
      "F1 score for test set: 0.7746.\n",
      "\n",
      "\n",
      "Training set size = 200\n",
      "Training a SVC using a training set size of 200. . .\n",
      "Trained model in 0.0050 seconds\n",
      "Made predictions in 0.0040 seconds.\n",
      "F1 score for training set: 0.8679.\n",
      "Made predictions in 0.0020 seconds.\n",
      "F1 score for test set: 0.7815.\n",
      "\n",
      "\n",
      "Training set size = 300\n",
      "Training a SVC using a training set size of 300. . .\n",
      "Trained model in 0.0110 seconds\n",
      "Made predictions in 0.0060 seconds.\n",
      "F1 score for training set: 0.8761.\n",
      "Made predictions in 0.0020 seconds.\n",
      "F1 score for test set: 0.7838.\n",
      "\n",
      "\n",
      "\n",
      "\n",
      "-----------------------------------------------------------------\n",
      "\n",
      "\n",
      "*********************************\n",
      "3. Decision Tree Classifier\n",
      "*********************************\n",
      "\n",
      "\n",
      "Training set size = 100\n",
      "Training a DecisionTreeClassifier using a training set size of 100. . .\n",
      "Trained model in 0.0030 seconds\n",
      "Made predictions in 0.0000 seconds.\n",
      "F1 score for training set: 1.0000.\n",
      "Made predictions in 0.0000 seconds.\n",
      "F1 score for test set: 0.6271.\n",
      "\n",
      "\n",
      "Training set size = 200\n",
      "Training a DecisionTreeClassifier using a training set size of 200. . .\n",
      "Trained model in 0.0020 seconds\n",
      "Made predictions in 0.0000 seconds.\n",
      "F1 score for training set: 1.0000.\n",
      "Made predictions in 0.0000 seconds.\n",
      "F1 score for test set: 0.7704.\n",
      "\n",
      "\n",
      "Training set size = 300\n",
      "Training a DecisionTreeClassifier using a training set size of 300. . .\n",
      "Trained model in 0.0040 seconds\n",
      "Made predictions in 0.0000 seconds.\n",
      "F1 score for training set: 1.0000.\n",
      "Made predictions in 0.0010 seconds.\n",
      "F1 score for test set: 0.6557.\n",
      "\n",
      "\n"
     ]
    }
   ],
   "source": [
    "# TODO: Execute the 'train_predict' function for each classifier and each training set size\n",
    "# train_predict(clf, X_train, y_train, X_test, y_test)\n",
    "\n",
    "print \"*********************************\"\n",
    "print \"1. Logistic Regression\"\n",
    "print \"*********************************\"\n",
    "print \"\\n\"\n",
    "print \"Training set size = 100\"\n",
    "train_predict(clf_A, X_train_100, y_train_100, X_test, y_test)\n",
    "print \"\\n\"\n",
    "print \"Training set size = 200\"\n",
    "train_predict(clf_A, X_train_200, y_train_200, X_test, y_test)\n",
    "print \"\\n\"\n",
    "print \"Training set size = 300\"\n",
    "train_predict(clf_A, X_train_300, y_train_300, X_test, y_test)\n",
    "print \"\\n\"\n",
    "\n",
    "\n",
    "print \"\\n\"\n",
    "print \"-----------------------------------------------------------------\"\n",
    "print \"\\n\"\n",
    "\n",
    "print \"*********************************\"\n",
    "print \"2. Support Vector Machine\"\n",
    "print \"*********************************\"\n",
    "print \"\\n\"\n",
    "print \"Training set size = 100\"\n",
    "train_predict(clf_B, X_train_100, y_train_100, X_test, y_test)\n",
    "print \"\\n\"\n",
    "print \"Training set size = 200\"\n",
    "train_predict(clf_B, X_train_200, y_train_200, X_test, y_test)\n",
    "print \"\\n\"\n",
    "print \"Training set size = 300\"\n",
    "train_predict(clf_B, X_train_300, y_train_300, X_test, y_test)\n",
    "print \"\\n\"\n",
    "\n",
    "print \"\\n\"\n",
    "print \"-----------------------------------------------------------------\"\n",
    "print \"\\n\"\n",
    "\n",
    "print \"*********************************\"\n",
    "print \"3. Decision Tree Classifier\"\n",
    "print \"*********************************\"\n",
    "print \"\\n\"\n",
    "print \"Training set size = 100\"\n",
    "train_predict(clf_C, X_train_100, y_train_100, X_test, y_test)\n",
    "print \"\\n\"\n",
    "print \"Training set size = 200\"\n",
    "train_predict(clf_C, X_train_200, y_train_200, X_test, y_test)\n",
    "print \"\\n\"\n",
    "print \"Training set size = 300\"\n",
    "train_predict(clf_C, X_train_300, y_train_300, X_test, y_test)\n",
    "print \"\\n\""
   ]
  },
  {
   "cell_type": "markdown",
   "metadata": {},
   "source": [
    "### Tabular Results\n",
    "Edit the cell below to see how a table can be designed in [Markdown](https://github.com/adam-p/markdown-here/wiki/Markdown-Cheatsheet#tables). You can record your results from above in the tables provided."
   ]
  },
  {
   "cell_type": "markdown",
   "metadata": {},
   "source": [
    "** Classifer 1 - Logistic Regression**  \n",
    "\n",
    "| Training Set Size | Training Time | Prediction Time (test) | F1 Score (train) | F1 Score (test) |\n",
    "| :---------------: | :---------------------: | :--------------------: | :--------------: | :-------------: |\n",
    "| 100               |         0.003s          |         0.000s         |      0.8593      |      0.7647     |\n",
    "| 200               |         0.004s          |         0.001s         |      0.8562      |      0.7914     |\n",
    "| 300               |         0.005s          |         0.002s         |      0.8468      |      0.8060     |\n",
    "\n",
    "** Classifer 2 - Support Vector Machine**  \n",
    "\n",
    "| Training Set Size | Training Time | Prediction Time (test) | F1 Score (train) | F1 Score (test) |\n",
    "| :---------------: | :---------------------: | :--------------------: | :--------------: | :-------------: |\n",
    "| 100               |        0.003s           |         0.002s         |      0.8777      |      0.7746     |\n",
    "| 200               |        0.006s           |         0.004s         |      0.8679      |      0.7815     |\n",
    "| 300               |        0.011s           |         0.007s         |      0.8761      |      0.7838     |\n",
    "\n",
    "** Classifer 3 - Decision Tree**  \n",
    "\n",
    "| Training Set Size | Training Time | Prediction Time (test) | F1 Score (train) | F1 Score (test) |\n",
    "| :---------------: | :---------------------: | :--------------------: | :--------------: | :-------------: |\n",
    "| 100               |        0.003s           |        0.000s          |     1.0000       |      0.6271     |\n",
    "| 200               |        0.003s           |        0.000s          |     1.0000       |      0.7704     |\n",
    "| 300               |        0.004s           |        0.001s          |     1.0000       |      0.6557     |"
   ]
  },
  {
   "cell_type": "markdown",
   "metadata": {},
   "source": [
    "## Choosing the Best Model\n",
    "In this final section, you will choose from the three supervised learning models the *best* model to use on the student data. You will then perform a grid search optimization for the model over the entire training set (`X_train` and `y_train`) by tuning at least one parameter to improve upon the untuned model's F<sub>1</sub> score. "
   ]
  },
  {
   "cell_type": "markdown",
   "metadata": {},
   "source": [
    "* The code below was based on class about \"Evaluation and Validation\", Lesson 4 - [\"Detecting Overfitting and Underfitting with Learning Curves\"](https://classroom.udacity.com/nanodegrees/nd009-br/parts/8f0114b4-e778-4fce-ba89-e9a10a2026e0/modules/89692644-156f-4447-8601-ce46b5f1c572/lessons/bc61c575-ae7c-4243-bfc2-bff377e7216a/concepts/c1d77b32-2c63-4cf3-ab9b-3c07470df57c)"
   ]
  },
  {
   "cell_type": "code",
   "execution_count": 14,
   "metadata": {
    "collapsed": true
   },
   "outputs": [],
   "source": [
    "#Drawing the learning curves\n",
    "\n",
    "import matplotlib.pyplot as plt\n",
    "from sklearn.model_selection import learning_curve\n",
    "\n",
    "def draw_learning_curves(X, y, estimator, num_trainings=30):\n",
    "    train_sizes, train_scores, test_scores = learning_curve(\n",
    "        estimator, X, y, cv=None, n_jobs=1, train_sizes=np.linspace(.1, 1.0, num_trainings))\n",
    "\n",
    "    train_scores_mean = np.mean(train_scores, axis=1)\n",
    "    train_scores_std = np.std(train_scores, axis=1)\n",
    "    test_scores_mean = np.mean(test_scores, axis=1)\n",
    "    test_scores_std = np.std(test_scores, axis=1)\n",
    "\n",
    "    plt.grid()\n",
    "\n",
    "    plt.title(\"Learning Curves\")\n",
    "    plt.xlabel(\"Training examples\")\n",
    "    plt.ylabel(\"Score\")\n",
    "\n",
    "    plt.plot(train_scores_mean, 'o-', color=\"g\",\n",
    "             label=\"Training score\")\n",
    "    plt.plot(test_scores_mean, 'o-', color=\"y\",\n",
    "             label=\"Cross-validation score\")\n",
    "\n",
    "\n",
    "    plt.legend(loc=\"best\")\n",
    "\n",
    "    plt.show()"
   ]
  },
  {
   "cell_type": "code",
   "execution_count": 15,
   "metadata": {},
   "outputs": [
    {
     "data": {
      "image/png": "[encoded data removed]",
      "text/plain": [
       "<matplotlib.figure.Figure at 0x65a44e0>"
      ]
     },
     "metadata": {},
     "output_type": "display_data"
    }
   ],
   "source": [
    "### Logistic Regression\n",
    "draw_learning_curves(X_train_300, y_train_300, clf_A)"
   ]
  },
  {
   "cell_type": "code",
   "execution_count": 16,
   "metadata": {},
   "outputs": [
    {
     "data": {
      "image/png": "[encoded data removed]",
      "text/plain": [
       "<matplotlib.figure.Figure at 0xa413048>"
      ]
     },
     "metadata": {},
     "output_type": "display_data"
    }
   ],
   "source": [
    "### Support Vector Machine\n",
    "draw_learning_curves(X_train_300, y_train_300, clf_B)"
   ]
  },
  {
   "cell_type": "code",
   "execution_count": 17,
   "metadata": {},
   "outputs": [
    {
     "data": {
      "image/png": "[encoded data removed]",
      "text/plain": [
       "<matplotlib.figure.Figure at 0xa296400>"
      ]
     },
     "metadata": {},
     "output_type": "display_data"
    }
   ],
   "source": [
    "### Decision Tree\n",
    "draw_learning_curves(X_train_300, y_train_300, clf_C)"
   ]
  },
  {
   "cell_type": "markdown",
   "metadata": {},
   "source": [
    "### Question 3 - Choosing the Best Model\n",
    "*Based on the experiments you performed earlier, in one to two paragraphs, explain to the board of supervisors what single model you chose as the best model. Which model is generally the most appropriate based on the available data, limited resources, cost, and performance?*"
   ]
  },
  {
   "cell_type": "markdown",
   "metadata": {},
   "source": [
    "**Answer: **As we can see, Decision tree suffers Overfitting, the model has a high training score, and a low testing score. Therefore, Decision Tree won't be our best model.\n",
    "\n",
    "The other two models have a similar performance based on their test score, but Logistic Regression has advantages. See explanation below:\n",
    "\n",
    "1. The Support Vector Machine model require an increment exponentially of time when the number of sample increase linearly. That can be comproved when you see the time on the table ** Classifer 2 - Support Vector Machine**. Consequently, the computational cost increase exponentially as well.  On the other hand, the Logistic regression model exhibit a linear increase according to the number of samples increase linearly, so  the model use the least amount of computation costs to save on the budget.\n",
    "\n",
    "2. Both models exhebit growns and decay in test and training score, respectively, and this was expected. The most diference between these models is in the rate of increse in the test score, where Logistic Recression shows an large rate than Support Vector Machine. That fact can be verified by comparing the difference between the test score of 100 training samples and 300 training sampples. Therefore, Logistic Regression seems to converge faster and a high value of F1 score than Support Vector Machine. \n"
   ]
  },
  {
   "cell_type": "markdown",
   "metadata": {},
   "source": [
    "### Question 4 - Model in Layman's Terms\n",
    "*In one to two paragraphs, explain to the board of directors in layman's terms how the final model chosen is supposed to work. Be sure that you are describing the major qualities of the model, such as how the model is trained and how the model makes a prediction. Avoid using advanced mathematical or technical jargon, such as describing equations or discussing the algorithm implementation.*"
   ]
  },
  {
   "cell_type": "markdown",
   "metadata": {},
   "source": [
    "**Answer: **The Logic Regression is an simple supervied machine learning model that can be applied on the classification problem of determine if the students need or not intervention BEFORE they drop out of school. The major qualities of this models is your sheap computational cost and works well with few number of training samples. \n",
    "    As we have collected data from students that pass and not, the model uses these labeled data (data that we know if student passed or not) for learn which features are important or not. Analysing these data, the model idenfity which features are important and assign large height for important features and less otherwise, therefore the model transform all features into a numerical value where the values represents the level if importance. Combining (adding) all features and their respective weight the model will learn an value that represets the boundary between the student who have passed or not in the past. \n",
    "    Lastly, the model use the weight finded based on the labeled data to apply for new students that doesn't drop out of school yet. Therefore, is possible to predict if an student need an intervention or not. \n",
    "    "
   ]
  },
  {
   "cell_type": "markdown",
   "metadata": {},
   "source": [
    "### Implementation: Model Tuning\n",
    "Fine tune the chosen model. Use grid search (`GridSearchCV`) with at least one important parameter tuned with at least 3 different values. You will need to use the entire training set for this. In the code cell below, you will need to implement the following:\n",
    "- Import [`sklearn.grid_search.GridSearchCV`](http://scikit-learn.org/0.17/modules/generated/sklearn.grid_search.GridSearchCV.html) and [`sklearn.metrics.make_scorer`](http://scikit-learn.org/stable/modules/generated/sklearn.metrics.make_scorer.html).\n",
    "- Create a dictionary of parameters you wish to tune for the chosen model.\n",
    " - Example: `parameters = {'parameter' : [list of values]}`.\n",
    "- Initialize the classifier you've chosen and store it in `clf`.\n",
    "- Create the F<sub>1</sub> scoring function using `make_scorer` and store it in `f1_scorer`.\n",
    " - Set the `pos_label` parameter to the correct value!\n",
    "- Perform grid search on the classifier `clf` using `f1_scorer` as the scoring method, and store it in `grid_obj`.\n",
    "- Fit the grid search object to the training data (`X_train`, `y_train`), and store it in `grid_obj`."
   ]
  },
  {
   "cell_type": "code",
   "execution_count": 18,
   "metadata": {},
   "outputs": [
    {
     "name": "stdout",
     "output_type": "stream",
     "text": [
      "Training a LogisticRegression using a training set size of 300. . .\n",
      "Trained model in 0.0060 seconds\n",
      "Made predictions in 0.0010 seconds.\n",
      "F1 score for training set: 0.8468.\n",
      "Made predictions in 0.0010 seconds.\n",
      "F1 score for test set: 0.8060.\n"
     ]
    }
   ],
   "source": [
    "train_predict(clf_A, X_train_300, y_train_300, X_test, y_test)"
   ]
  },
  {
   "cell_type": "code",
   "execution_count": 19,
   "metadata": {},
   "outputs": [
    {
     "name": "stdout",
     "output_type": "stream",
     "text": [
      "Made predictions in 0.0010 seconds.\n"
     ]
    },
    {
     "data": {
      "text/plain": [
       "0.84684684684684697"
      ]
     },
     "execution_count": 19,
     "metadata": {},
     "output_type": "execute_result"
    }
   ],
   "source": [
    "predict_labels(clf_A, X_train, y_train)"
   ]
  },
  {
   "cell_type": "code",
   "execution_count": 20,
   "metadata": {},
   "outputs": [
    {
     "name": "stdout",
     "output_type": "stream",
     "text": [
      "Made predictions in 0.0030 seconds.\n"
     ]
    },
    {
     "data": {
      "text/plain": [
       "0.80597014925373123"
      ]
     },
     "execution_count": 20,
     "metadata": {},
     "output_type": "execute_result"
    }
   ],
   "source": [
    "predict_labels(clf_A, X_test, y_test)"
   ]
  },
  {
   "cell_type": "code",
   "execution_count": 23,
   "metadata": {},
   "outputs": [
    {
     "name": "stdout",
     "output_type": "stream",
     "text": [
      "Only for analyze the default parametrs for clf_A: \n",
      "LogisticRegression(C=1.0, class_weight=None, dual=False, fit_intercept=True,\n",
      "          intercept_scaling=1, max_iter=100, multi_class='ovr', n_jobs=1,\n",
      "          penalty='l2', random_state=10, solver='liblinear', tol=0.0001,\n",
      "          verbose=0, warm_start=False)\n"
     ]
    }
   ],
   "source": [
    "print \"Only for analyze the default parametrs for clf_A: \"\n",
    "print clf_A"
   ]
  },
  {
   "cell_type": "code",
   "execution_count": 24,
   "metadata": {},
   "outputs": [
    {
     "name": "stdout",
     "output_type": "stream",
     "text": [
      "LogisticRegression(C=0.04010760152030407, class_weight=None, dual=False,\n",
      "          fit_intercept=True, intercept_scaling=1, max_iter=10000,\n",
      "          multi_class='ovr', n_jobs=1, penalty='l2', random_state=10,\n",
      "          solver='liblinear', tol=0.0001, verbose=0, warm_start=False)\n",
      "Made predictions in 0.0010 seconds.\n",
      "Tuned model has a training F1 score of 0.8344.\n",
      "Made predictions in 0.0000 seconds.\n",
      "Tuned model has a testing F1 score of 0.7778.\n"
     ]
    }
   ],
   "source": [
    "# TODO: Import 'GridSearchCV' and 'make_scorer'\n",
    "from sklearn.model_selection import GridSearchCV\n",
    "from sklearn.metrics import make_scorer, f1_score\n",
    "\n",
    "#penalty': ['l1','l2']\n",
    "#'intercept_scaling':[0.1,0.2,0.3,0.4,0.5,0.6,0.7,0.8,0.9,1]\n",
    "#'intercept_scaling':[0.1,0.2,0.3,0.4,0.5,0.6,0.7,0.8,0.9,1],\n",
    "#'C': [0.001, 0.01, 0.1, 1, 10, 100, 1000],  \n",
    "#'tol':[0.000001,0.00001, 0.0001, 0.001, 0.01, 0.1, 1]\n",
    "# TODO: Create the parameters list you wish to tune\n",
    "C_list = list(np.linspace(0.0001, 10.0, num=5000))\n",
    "\n",
    "parameters = {\n",
    "              'C': C_list\n",
    "             }\n",
    "\n",
    "# TODO: Initialize the classifier\n",
    "clf = LogisticRegression(max_iter=10000, random_state = 10)\n",
    "\n",
    "# TODO: Make an f1 scoring function using 'make_scorer' \n",
    "f1_scorer = make_scorer(f1_score, pos_label = 'yes')\n",
    "\n",
    "# TODO: Perform grid search on the classifier using the f1_scorer as the scoring method\n",
    "grid_obj = GridSearchCV(clf, parameters, scoring = f1_scorer)\n",
    "\n",
    "# TODO: Fit the grid search object to the training data and find the optimal parameters\n",
    "grid_obj = grid_obj.fit(X_train, y_train)\n",
    "\n",
    "# Get the estimator\n",
    "clf = grid_obj.best_estimator_\n",
    "print clf\n",
    "\n",
    "# Report the final F1 score for training and testing after parameter tuning\n",
    "print \"Tuned model has a training F1 score of {:.4f}.\".format(predict_labels(clf, X_train, y_train))\n",
    "print \"Tuned model has a testing F1 score of {:.4f}.\".format(predict_labels(clf, X_test, y_test))\n"
   ]
  },
  {
   "cell_type": "markdown",
   "metadata": {},
   "source": [
    "### Question 5 - Final F<sub>1</sub> Score\n",
    "*What is the final model's F<sub>1</sub> score for training and testing? How does that score compare to the untuned model?*"
   ]
  },
  {
   "cell_type": "markdown",
   "metadata": {},
   "source": [
    "**Answer: **The final models's F1 score using Grid Search CV decrease based on the untuned model. I don't undestand why the Grid Serach CV chooses the C = 0.4 aproximately if an C=1 (untuned model) result in a best F1 score. For C=1, the test result an F1 score = 0.8060 e if C=0.4 F1 score=0.7778. Therefore, the tuning of this model using Grid Search CV result in a worse F1 score.\n",
    "\n"
   ]
  },
  {
   "cell_type": "markdown",
   "metadata": {},
   "source": [
    "### Message for Instructor\n",
    "\n",
    "As the model I chose didn't work as expected, I decided to repeat the process os tuning for the Support Vector Machine. The Support Vector Machine is a good choice based on the result that I finded before and in the orientacion on the documentation of [Scikit Learn](http://scikit-learn.org/stable/tutorial/machine_learning_map/index.html). \n",
    "\n",
    "The model Support Vector Machine has many parameters for Grid Search to choose.\n",
    "I reapted the process below just for try to find a best score for F1_score. see below:\n",
    "\n",
    "\n",
    "#### Drawing the learning curves for SVM"
   ]
  },
  {
   "cell_type": "code",
   "execution_count": 25,
   "metadata": {},
   "outputs": [
    {
     "data": {
      "image/png": "[encoded data removed]",
      "text/plain": [
       "<matplotlib.figure.Figure at 0xa37f438>"
      ]
     },
     "metadata": {},
     "output_type": "display_data"
    }
   ],
   "source": [
    "#Support Vecotr Machine for Classification\n",
    "draw_learning_curves(X_train_300, y_train_300, clf_B)"
   ]
  },
  {
   "cell_type": "code",
   "execution_count": 26,
   "metadata": {},
   "outputs": [
    {
     "data": {
      "image/png": "[encoded data removed]",
      "text/plain": [
       "<matplotlib.figure.Figure at 0xc46a240>"
      ]
     },
     "metadata": {},
     "output_type": "display_data"
    }
   ],
   "source": [
    "#Linear Support Vector Machine for Classification\n",
    "from sklearn.svm import LinearSVC\n",
    "clf_D = LinearSVC(random_state=40)\n",
    "\n",
    "draw_learning_curves(X_train_300, y_train_300, clf_D)"
   ]
  },
  {
   "cell_type": "markdown",
   "metadata": {},
   "source": [
    "#### Execute the 'train_predict' function for each classifier and each training set size"
   ]
  },
  {
   "cell_type": "code",
   "execution_count": 27,
   "metadata": {},
   "outputs": [
    {
     "name": "stdout",
     "output_type": "stream",
     "text": [
      "*********************************\n",
      "1. Support Vector Classification\n",
      "*********************************\n",
      "\n",
      "\n",
      "Training set size = 100\n",
      "Training a SVC using a training set size of 100. . .\n",
      "Trained model in 0.0030 seconds\n",
      "Made predictions in 0.0010 seconds.\n",
      "F1 score for training set: 0.8777.\n",
      "Made predictions in 0.0020 seconds.\n",
      "F1 score for test set: 0.7746.\n",
      "\n",
      "\n",
      "Training set size = 200\n",
      "Training a SVC using a training set size of 200. . .\n",
      "Trained model in 0.0050 seconds\n",
      "Made predictions in 0.0040 seconds.\n",
      "F1 score for training set: 0.8679.\n",
      "Made predictions in 0.0030 seconds.\n",
      "F1 score for test set: 0.7815.\n",
      "\n",
      "\n",
      "Training set size = 300\n",
      "Training a SVC using a training set size of 300. . .\n",
      "Trained model in 0.0100 seconds\n",
      "Made predictions in 0.0070 seconds.\n",
      "F1 score for training set: 0.8761.\n",
      "Made predictions in 0.0020 seconds.\n",
      "F1 score for test set: 0.7838.\n",
      "\n",
      "\n",
      "\n",
      "\n",
      "-----------------------------------------------------------------\n",
      "\n",
      "\n",
      "\n",
      "\n",
      "*********************************\n",
      "2. LINEAR Support Vector Classification\n",
      "*********************************\n",
      "\n",
      "\n",
      "Training set size = 100\n",
      "Training a LinearSVC using a training set size of 100. . .\n",
      "Trained model in 0.0110 seconds\n",
      "Made predictions in 0.0000 seconds.\n",
      "F1 score for training set: 0.9008.\n",
      "Made predictions in 0.0010 seconds.\n",
      "F1 score for test set: 0.7597.\n",
      "\n",
      "\n",
      "Training set size = 200\n",
      "Training a LinearSVC using a training set size of 200. . .\n",
      "Trained model in 0.0250 seconds\n",
      "Made predictions in 0.0010 seconds.\n",
      "F1 score for training set: 0.8553.\n",
      "Made predictions in 0.0000 seconds.\n",
      "F1 score for test set: 0.7714.\n",
      "\n",
      "\n",
      "Training set size = 300\n",
      "Training a LinearSVC using a training set size of 300. . .\n",
      "Trained model in 0.0340 seconds\n",
      "Made predictions in 0.0000 seconds.\n",
      "F1 score for training set: 0.8463.\n",
      "Made predictions in 0.0000 seconds.\n",
      "F1 score for test set: 0.7971.\n",
      "\n",
      "\n",
      "\n",
      "\n",
      "-----------------------------------------------------------------\n",
      "\n",
      "\n"
     ]
    }
   ],
   "source": [
    "print \"*********************************\"\n",
    "print \"1. Support Vector Classification\"\n",
    "print \"*********************************\"\n",
    "print \"\\n\"\n",
    "print \"Training set size = 100\"\n",
    "train_predict(clf_B, X_train_100, y_train_100, X_test, y_test)\n",
    "print \"\\n\"\n",
    "print \"Training set size = 200\"\n",
    "train_predict(clf_B, X_train_200, y_train_200, X_test, y_test)\n",
    "print \"\\n\"\n",
    "print \"Training set size = 300\"\n",
    "train_predict(clf_B, X_train_300, y_train_300, X_test, y_test)\n",
    "print \"\\n\"\n",
    "\n",
    "print \"\\n\"\n",
    "print \"-----------------------------------------------------------------\"\n",
    "print \"\\n\"\n",
    "\n",
    "print \"\\n\"\n",
    "print \"*********************************\"\n",
    "print \"2. LINEAR Support Vector Classification\"\n",
    "print \"*********************************\"\n",
    "print \"\\n\"\n",
    "print \"Training set size = 100\"\n",
    "train_predict(clf_D, X_train_100, y_train_100, X_test, y_test)\n",
    "print \"\\n\"\n",
    "print \"Training set size = 200\"\n",
    "train_predict(clf_D, X_train_200, y_train_200, X_test, y_test)\n",
    "print \"\\n\"\n",
    "print \"Training set size = 300\"\n",
    "train_predict(clf_D, X_train_300, y_train_300, X_test, y_test)\n",
    "print \"\\n\"\n",
    "\n",
    "print \"\\n\"\n",
    "print \"-----------------------------------------------------------------\"\n",
    "print \"\\n\"\n",
    "\n"
   ]
  },
  {
   "cell_type": "markdown",
   "metadata": {},
   "source": [
    "**IMPORTANT OBSERVATION:** \"SGDClassifier can optimize the same cost function as LinearSVC by adjusting the penalty and loss parameters. In addition it requires less memory, allows incremental (online) learning, and implements various loss functions and regularization regimes.\"[1]\n",
    "\n",
    "On the other hand, SVM is more versatile for tune. So, I will try to tune both.\n",
    "\n",
    "[1](http://scikit-learn.org/stable/modules/generated/sklearn.svm.LinearSVC.html#sklearn.svm.LinearSVC)\n",
    "\n",
    "### SGDClassifier (SGDC)"
   ]
  },
  {
   "cell_type": "code",
   "execution_count": 29,
   "metadata": {},
   "outputs": [
    {
     "name": "stdout",
     "output_type": "stream",
     "text": [
      "Drawing the learning curves for SGDC\n",
      "\n",
      "\n"
     ]
    },
    {
     "name": "stderr",
     "output_type": "stream",
     "text": [
      "C:\\Users\\User\\Anaconda3\\envs\\py2\\lib\\site-packages\\sklearn\\linear_model\\stochastic_gradient.py:128: FutureWarning: max_iter and tol parameters have been added in <class 'sklearn.linear_model.stochastic_gradient.SGDClassifier'> in 0.19. If both are left unset, they default to max_iter=5 and tol=None. If tol is not None, max_iter defaults to max_iter=1000. From 0.21, default max_iter will be 1000, and default tol will be 1e-3.\n",
      "  \"and default tol will be 1e-3.\" % type(self), FutureWarning)\n"
     ]
    },
    {
     "data": {
      "image/png": "[encoded data removed]",
      "text/plain": [
       "<matplotlib.figure.Figure at 0xd93cf28>"
      ]
     },
     "metadata": {},
     "output_type": "display_data"
    }
   ],
   "source": [
    "print \"Drawing the learning curves for SGDC\"\n",
    "print \"\\n\"\n",
    "#SGDClassifier\n",
    "from sklearn.linear_model import SGDClassifier\n",
    "clf_E = SGDClassifier(random_state=50)\n",
    "\n",
    "draw_learning_curves(X_train_300, y_train_300, clf_E)"
   ]
  },
  {
   "cell_type": "code",
   "execution_count": 30,
   "metadata": {},
   "outputs": [
    {
     "name": "stdout",
     "output_type": "stream",
     "text": [
      "Execute the 'train_predict' function for each training set size\n",
      "\n",
      "\n",
      "*********************************\n",
      "3.Stochastic Gradient Descent Classifier (SGDC)\n",
      "*********************************\n",
      "\n",
      "\n",
      "Training set size = 100\n",
      "Training a SGDClassifier using a training set size of 100. . .\n",
      "Trained model in 0.0010 seconds\n",
      "Made predictions in 0.0110 seconds.\n",
      "F1 score for training set: 0.7258.\n",
      "Made predictions in 0.0160 seconds.\n",
      "F1 score for test set: 0.7442.\n",
      "\n",
      "\n",
      "Training set size = 200\n",
      "Training a SGDClassifier using a training set size of 200. . .\n",
      "Trained model in 0.0020 seconds\n",
      "Made predictions in 0.0010 seconds.\n",
      "F1 score for training set: 0.4420.\n",
      "Made predictions in 0.0010 seconds.\n",
      "F1 score for test set: 0.4390.\n",
      "\n",
      "\n",
      "Training set size = 300\n",
      "Training a SGDClassifier using a training set size of 300. . .\n",
      "Trained model in 0.0010 seconds\n",
      "Made predictions in 0.0010 seconds.\n",
      "F1 score for training set: 0.8104.\n",
      "Made predictions in 0.0000 seconds.\n",
      "F1 score for test set: 0.7792.\n",
      "\n",
      "\n"
     ]
    }
   ],
   "source": [
    "print \"Execute the 'train_predict' function for each training set size\"\n",
    "print \"\\n\"\n",
    "print \"*********************************\"\n",
    "print \"3.Stochastic Gradient Descent Classifier (SGDC)\"\n",
    "print \"*********************************\"\n",
    "print \"\\n\"\n",
    "print \"Training set size = 100\"\n",
    "train_predict(clf_E, X_train_100, y_train_100, X_test, y_test)\n",
    "print \"\\n\"\n",
    "print \"Training set size = 200\"\n",
    "train_predict(clf_E, X_train_200, y_train_200, X_test, y_test)\n",
    "print \"\\n\"\n",
    "print \"Training set size = 300\"\n",
    "train_predict(clf_E, X_train_300, y_train_300, X_test, y_test)\n",
    "print \"\\n\"\n"
   ]
  },
  {
   "cell_type": "markdown",
   "metadata": {},
   "source": [
    "**Comment: **Comparing SGDC and LinearSVC the result exhebit from SGDC is strengh because the result suffers oscilation unexpeted (look the graph of SGDC). On the other hand, the Linear SVC works fine but not significant better than Logistic Regression that was my choise. All models result into similar result of F1 score."
   ]
  },
  {
   "cell_type": "markdown",
   "metadata": {},
   "source": [
    "### Implementation: Model Tuning\n",
    "\n",
    "\n",
    "#### Support Vector Machine"
   ]
  },
  {
   "cell_type": "code",
   "execution_count": 31,
   "metadata": {},
   "outputs": [
    {
     "name": "stdout",
     "output_type": "stream",
     "text": [
      "SVC(C=0.001, cache_size=200, class_weight=None, coef0=0.0,\n",
      "  decision_function_shape='ovr', degree=2, gamma=0.2, kernel='poly',\n",
      "  max_iter=-1, probability=False, random_state=20, shrinking=True,\n",
      "  tol=0.001, verbose=False)\n",
      "Made predictions in 0.0050 seconds.\n",
      "Tuned SVC model has a training F1 score of 0.8441.\n",
      "Made predictions in 0.0020 seconds.\n",
      "Tuned SVC model has a testing F1 score of 0.7838.\n"
     ]
    }
   ],
   "source": [
    "# TODO: Import 'GridSearchCV' and 'make_scorer'\n",
    "from sklearn.model_selection import GridSearchCV\n",
    "from sklearn.metrics import make_scorer, f1_score\n",
    "\n",
    "\n",
    "\n",
    "parameters = {\n",
    "              'C' :[0.001, 0.01, 0.1, 1, 10, 50],\n",
    "              'kernel' : ['linear', 'poly', 'rbf', 'sigmoid'],\n",
    "              'degree' : [1,2,3,4,5],\n",
    "              'gamma' : [0.01,0.02,0.03,0.04,0.05,0.10,0.2,0.3,0.4,0.5]\n",
    "             }\n",
    "\n",
    "# TODO: Initialize the classifier\n",
    "clf = SVC(random_state = 20)\n",
    "\n",
    "# TODO: Make an f1 scoring function using 'make_scorer' \n",
    "f1_scorer = make_scorer(f1_score, pos_label = 'yes')\n",
    "\n",
    "# TODO: Perform grid search on the classifier using the f1_scorer as the scoring method\n",
    "grid_obj = GridSearchCV(clf, parameters, scoring=f1_scorer)\n",
    "\n",
    "# TODO: Fit the grid search object to the training data and find the optimal parameters\n",
    "grid_obj = grid_obj.fit(X_train, y_train)\n",
    "\n",
    "# Get the estimator\n",
    "clf = grid_obj.best_estimator_\n",
    "print clf\n",
    "\n",
    "\n",
    "# Report the final F1 score for training and testing after parameter tuning\n",
    "print \"Tuned SVC model has a training F1 score of {:.4f}.\".format(predict_labels(clf, X_train, y_train))\n",
    "print \"Tuned SVC model has a testing F1 score of {:.4f}.\".format(predict_labels(clf, X_test, y_test))"
   ]
  },
  {
   "cell_type": "markdown",
   "metadata": {},
   "source": [
    "#### Linear SVC"
   ]
  },
  {
   "cell_type": "code",
   "execution_count": 33,
   "metadata": {},
   "outputs": [
    {
     "name": "stdout",
     "output_type": "stream",
     "text": [
      "LinearSVC(C=0.1, class_weight=None, dual=True, fit_intercept=True,\n",
      "     intercept_scaling=1, loss='hinge', max_iter=1000, multi_class='ovr',\n",
      "     penalty='l2', random_state=40, tol=0.0001, verbose=0)\n",
      "Made predictions in 0.0010 seconds.\n",
      "Tuned LinearSVC model has a training F1 score of 0.8468.\n",
      "Made predictions in 0.0010 seconds.\n",
      "Tuned LinearSVC model has a testing F1 score of 0.7943.\n"
     ]
    }
   ],
   "source": [
    "parameters = {\n",
    "              'C' : [0.001, 0.01, 0.1, 1, 10, 50],\n",
    "              'loss' : ['hinge', 'squared_hinge'],\n",
    "             }\n",
    "\n",
    "# TODO: Initialize the classifier\n",
    "clf = LinearSVC(random_state=40)\n",
    "\n",
    "# TODO: Make an f1 scoring function using 'make_scorer' \n",
    "f1_scorer = make_scorer(f1_score, pos_label = 'yes')\n",
    "\n",
    "# TODO: Perform grid search on the classifier using the f1_scorer as the scoring method\n",
    "grid_obj = GridSearchCV(clf, parameters, scoring=f1_scorer)\n",
    "\n",
    "# TODO: Fit the grid search object to the training data and find the optimal parameters\n",
    "grid_obj = grid_obj.fit(X_train, y_train)\n",
    "\n",
    "# Get the estimator\n",
    "clf = grid_obj.best_estimator_\n",
    "print clf\n",
    "\n",
    "\n",
    "# Report the final F1 score for training and testing after parameter tuning\n",
    "print \"Tuned LinearSVC model has a training F1 score of {:.4f}.\".format(predict_labels(clf, X_train, y_train))\n",
    "print \"Tuned LinearSVC model has a testing F1 score of {:.4f}.\".format(predict_labels(clf, X_test, y_test))"
   ]
  },
  {
   "cell_type": "markdown",
   "metadata": {},
   "source": [
    "### Applying Stochastic Gradient Descent Classifier (SGDC)"
   ]
  },
  {
   "cell_type": "code",
   "execution_count": 34,
   "metadata": {},
   "outputs": [
    {
     "name": "stdout",
     "output_type": "stream",
     "text": [
      "SGDClassifier(alpha=0.0001, average=False, class_weight=None, epsilon=0.1,\n",
      "       eta0=0.0, fit_intercept=True, l1_ratio=0.15,\n",
      "       learning_rate='optimal', loss='hinge', max_iter=None, n_iter=None,\n",
      "       n_jobs=1, penalty='l2', power_t=0.5, random_state=50, shuffle=True,\n",
      "       tol=None, verbose=0, warm_start=False)\n",
      "Made predictions in 0.0020 seconds.\n",
      "Tuned SGDC model has a training F1 score of 0.8104.\n",
      "Made predictions in 0.0010 seconds.\n",
      "Tuned SGDC model has a testing F1 score of 0.7792.\n"
     ]
    }
   ],
   "source": [
    "from sklearn.linear_model import SGDClassifier\n",
    "\n",
    "# TODO: Initialize the classifier\n",
    "clf = SGDClassifier(random_state=50)\n",
    "\n",
    "# TODO: Make an f1 scoring function using 'make_scorer' \n",
    "f1_scorer = make_scorer(f1_score, pos_label = 'yes')\n",
    "\n",
    "clf = clf.fit(X_train, y_train)\n",
    "print clf\n",
    "\n",
    "\n",
    "# Report the final F1 score for training and testing after parameter tuning\n",
    "print \"Tuned SGDC model has a training F1 score of {:.4f}.\".format(predict_labels(clf, X_train, y_train))\n",
    "print \"Tuned SGDC model has a testing F1 score of {:.4f}.\".format(predict_labels(clf, X_test, y_test))"
   ]
  },
  {
   "cell_type": "markdown",
   "metadata": {},
   "source": [
    "### Final message:\n",
    "\n",
    "**1. With Logistic Regression using GridSearch:**\n",
    "\n",
    "LogisticRegression(C=0.04010760152030407, class_weight=None, dual=False,\n",
    "          fit_intercept=True, intercept_scaling=1, max_iter=10000,\n",
    "          multi_class='ovr', n_jobs=1, penalty='l2', random_state=10,\n",
    "          solver='liblinear', tol=0.0001, verbose=0, warm_start=False)\n",
    "\n",
    "\n",
    "Made predictions in 0.0010 seconds.\n",
    "\n",
    "Tuned model has a training F1 score of 0.8344.\n",
    "\n",
    "Made predictions in 0.0000 seconds.\n",
    "\n",
    "Tuned model has a testing F1 score of 0.7778.\n",
    "\n",
    "\n",
    "\n",
    "**2. With LinearSVC applying GridSearchCV:**\n",
    "\n",
    "LinearSVC(C=0.1, class_weight=None, dual=True, fit_intercept=True,\n",
    "     intercept_scaling=1, loss='hinge', max_iter=1000, multi_class='ovr',\n",
    "     penalty='l2', random_state=40, tol=0.0001, verbose=0)\n",
    "     \n",
    "\n",
    "Made predictions in 0.0010 seconds.\n",
    "\n",
    "Tuned LinearSVC model has a training F1 score of 0.8468.\n",
    "\n",
    "Made predictions in 0.0010 seconds.\n",
    "\n",
    "Tuned LinearSVC model has a testing F1 score of 0.7943.\n",
    "\n",
    "\n",
    "\n",
    "**3. With SVC applying GridSearchCV:**\n",
    "\n",
    "SVC(C=0.001, cache_size=200, class_weight=None, coef0=0.0,\n",
    "  decision_function_shape='ovr', degree=2, gamma=0.2, kernel='poly',\n",
    "  max_iter=-1, probability=False, random_state=20, shrinking=True,\n",
    "  tol=0.001, verbose=False)\n",
    "\n",
    "\n",
    "Made predictions in 0.0050 seconds.\n",
    "\n",
    "Tuned SVC model has a training F1 score of 0.8441.\n",
    "\n",
    "Made predictions in 0.0020 seconds.\n",
    "\n",
    "Tuned SVC model has a testing F1 score of 0.7838.\n",
    "\n",
    "\n",
    "\n",
    "**4. Just applying SGDC:**\n",
    "\n",
    "SGDClassifier(alpha=0.0001, average=False, class_weight=None, epsilon=0.1,\n",
    "       eta0=0.0, fit_intercept=True, l1_ratio=0.15,\n",
    "       learning_rate='optimal', loss='hinge', max_iter=None, n_iter=None,\n",
    "       n_jobs=1, penalty='l2', power_t=0.5, random_state=50, shuffle=True,\n",
    "       tol=None, verbose=0, warm_start=False)\n",
    "Made predictions in 0.0020 seconds.\n",
    "Tuned SGDC model has a training F1 score of 0.8104.\n",
    "Made predictions in 0.0010 seconds.\n",
    "Tuned SGDC model has a testing F1 score of 0.7792.\n",
    "\n",
    "**COMMENT:** All models failed on the process of optimization. The same result without tune was finded. Although the training score has decreased, it is, after optimization, more consistent with testing, therefore, the value F1 score is more \"\t\n",
    "truthful\" and that is extremely important for significant results. \n",
    "\n",
    "Lastly, the model Logistic regression works well as classifier os students that have high probabilities of pass or not based on the other results reached with other models and the objective of the projec was reached. "
   ]
  },
  {
   "cell_type": "markdown",
   "metadata": {},
   "source": [
    "> **Note**: Once you have completed all of the code implementations and successfully answered each question above, you may finalize your work by exporting the iPython Notebook as an HTML document. You can do this by using the menu above and navigating to  \n",
    "**File -> Download as -> HTML (.html)**. Include the finished document along with this notebook as your submission."
   ]
  }
 ],
 "metadata": {
  "kernelspec": {
   "display_name": "Python 2",
   "language": "python",
   "name": "python2"
  },
  "language_info": {
   "codemirror_mode": {
    "name": "ipython",
    "version": 2
   },
   "file_extension": ".py",
   "mimetype": "text/x-python",
   "name": "python",
   "nbconvert_exporter": "python",
   "pygments_lexer": "ipython2",
   "version": "2.7.13"
  }
 },
 "nbformat": 4,
 "nbformat_minor": 1
}
